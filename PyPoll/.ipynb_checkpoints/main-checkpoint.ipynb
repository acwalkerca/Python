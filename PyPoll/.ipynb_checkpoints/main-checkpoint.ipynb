{
 "cells": [
  {
   "cell_type": "code",
   "execution_count": 36,
   "metadata": {},
   "outputs": [],
   "source": [
    "import os\n",
    "import csv\n",
    "\n",
    "file_to_load = os.path.join('election_data_1.csv')  "
   ]
  },
  {
   "cell_type": "code",
   "execution_count": 37,
   "metadata": {},
   "outputs": [
    {
     "name": "stdout",
     "output_type": "stream",
     "text": [
      "803,000\n"
     ]
    }
   ],
   "source": [
    "row_count = sum(1 for line in open(file_to_load))\n",
    "voter_count = row_count - 1\n",
    "print(f\"{voter_count:,d}\")"
   ]
  },
  {
   "cell_type": "code",
   "execution_count": 38,
   "metadata": {},
   "outputs": [],
   "source": [
    "total_votes = 0"
   ]
  },
  {
   "cell_type": "code",
   "execution_count": 39,
   "metadata": {},
   "outputs": [],
   "source": [
    "candidate_options = []\n",
    "candidate_votes = {}\n",
    "candidate_percentage = {}\n",
    "winner = {}"
   ]
  },
  {
   "cell_type": "code",
   "execution_count": 40,
   "metadata": {},
   "outputs": [
    {
     "name": "stdout",
     "output_type": "stream",
     "text": [
      "{'Vestal': 385440, 'Torres': 353320, 'Seth': 40150, 'Cordin': 24090}\n"
     ]
    }
   ],
   "source": [
    "with open(file_to_load) as election_data_1:\n",
    "    reader = csv.reader(election_data_1)\n",
    "    header = next(reader)\n",
    "\n",
    "    for row in reader:\n",
    "        \n",
    "        total_votes = total_votes + 1\n",
    "        candidate_name = row[2]\n",
    "\n",
    "        if candidate_name not in candidate_options:\n",
    "            candidate_options.append(candidate_name)\n",
    "            candidate_votes[candidate_name] = 0\n",
    "        candidate_votes[candidate_name] = candidate_votes[candidate_name] + 1\n",
    "print(candidate_votes) "
   ]
  },
  {
   "cell_type": "code",
   "execution_count": 41,
   "metadata": {},
   "outputs": [
    {
     "name": "stdout",
     "output_type": "stream",
     "text": [
      "48.0\n",
      "44.0\n",
      "5.0\n",
      "3.0\n"
     ]
    }
   ],
   "source": [
    "for key in candidate_votes:\n",
    "    candidate_percentage = (candidate_votes[key]/total_votes)*100\n",
    "    print (candidate_percentage)"
   ]
  },
  {
   "cell_type": "code",
   "execution_count": 42,
   "metadata": {},
   "outputs": [
    {
     "name": "stdout",
     "output_type": "stream",
     "text": [
      "Election Results\n",
      "-------------------------\n",
      "Total Votes: 803000\n",
      "-------------------------\n"
     ]
    }
   ],
   "source": [
    "print(\"Election Results\")\n",
    "print(\"-------------------------\")\n",
    "print(\"Total Votes: \" + str(total_votes))\n",
    "print(\"-------------------------\")"
   ]
  },
  {
   "cell_type": "code",
   "execution_count": 43,
   "metadata": {},
   "outputs": [],
   "source": [
    "text_path = os.path.join('.', 'election_results_1.txt')\n",
    "with open(text_path, \"w\") as text_file:\n",
    "    text_file.write(\"Election Results\\n\")\n",
    "    text_file.write(\"-------------------------\\n\")\n",
    "    text_file.write(\"Total Votes: \" + str(total_votes) + \"\\n\")\n",
    "    text_file.write(\"-------------------------\\n\")\n",
    "    "
   ]
  },
  {
   "cell_type": "code",
   "execution_count": null,
   "metadata": {
    "scrolled": true
   },
   "outputs": [],
   "source": []
  },
  {
   "cell_type": "code",
   "execution_count": null,
   "metadata": {},
   "outputs": [],
   "source": []
  },
  {
   "cell_type": "code",
   "execution_count": null,
   "metadata": {
    "scrolled": true
   },
   "outputs": [],
   "source": []
  }
 ],
 "metadata": {
  "kernelspec": {
   "display_name": "Python 3",
   "language": "python",
   "name": "python3"
  },
  "language_info": {
   "codemirror_mode": {
    "name": "ipython",
    "version": 3
   },
   "file_extension": ".py",
   "mimetype": "text/x-python",
   "name": "python",
   "nbconvert_exporter": "python",
   "pygments_lexer": "ipython3",
   "version": "3.6.4"
  }
 },
 "nbformat": 4,
 "nbformat_minor": 2
}
