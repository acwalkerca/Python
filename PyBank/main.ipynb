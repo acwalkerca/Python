{
 "cells": [
  {
   "cell_type": "code",
   "execution_count": 13,
   "metadata": {},
   "outputs": [],
   "source": [
    "import os\n",
    "import csv\n",
    "\n",
    "file_to_load = os.path.join('budget_data_2.csv')"
   ]
  },
  {
   "cell_type": "code",
   "execution_count": 14,
   "metadata": {},
   "outputs": [],
   "source": [
    "with open(file_to_load, newline=\"\") as revenue_data:\n",
    "    reader = csv.reader(revenue_data)\n",
    "    next(reader)\n",
    "    revenue = []\n",
    "    date = []\n",
    "    rev_change = []\n",
    "    for row in reader:\n",
    "        \n",
    "        revenue.append(int(row[1]))\n",
    "        date.append(row[0])"
   ]
  },
  {
   "cell_type": "code",
   "execution_count": 15,
   "metadata": {},
   "outputs": [
    {
     "name": "stdout",
     "output_type": "stream",
     "text": [
      "Financial Analysis\n",
      "-----------------------------------\n",
      "Total Months: 86\n",
      "Total Revenue: $ 36973911\n"
     ]
    }
   ],
   "source": [
    "    print(\"Financial Analysis\")\n",
    "    print(\"-----------------------------------\")\n",
    "    print(\"Total Months:\", len(date))\n",
    "    print(\"Total Revenue: $\", sum(revenue))"
   ]
  },
  {
   "cell_type": "code",
   "execution_count": 16,
   "metadata": {},
   "outputs": [
    {
     "name": "stdout",
     "output_type": "stream",
     "text": [
      "Average Revenue Change : $ -5955\n",
      "Greatest Increase in Revenue : Jun-2014 ($ 1645140 )\n",
      "Greatest Decrease in Revenue : May-2014 ($ -1947745 )\n"
     ]
    }
   ],
   "source": [
    "    for i in range(1,len(revenue)):\n",
    "        rev_change.append(revenue[i] - revenue[i-1])\n",
    "        avg_revenue_change = sum(rev_change)/len(rev_change)\n",
    "        \n",
    "        max_revenue_change = max(rev_change)\n",
    "        \n",
    "        min_revenue_change = min(rev_change)\n",
    "        \n",
    "        max_revenue_change_date = str(date[rev_change.index(max(rev_change))])\n",
    "        min_revenue_change_date = str(date[rev_change.index(min(rev_change))])\n",
    "        \n",
    "    print(\"Average Revenue Change : $\", round(avg_revenue_change))\n",
    "    print(\"Greatest Increase in Revenue :\", max_revenue_change_date, \"($\", max_revenue_change,\")\")\n",
    "    print(\"Greatest Decrease in Revenue :\", min_revenue_change_date, \"($\", min_revenue_change, \")\")\n"
   ]
  },
  {
   "cell_type": "code",
   "execution_count": 17,
   "metadata": {},
   "outputs": [
    {
     "name": "stdout",
     "output_type": "stream",
     "text": [
      "Financial Analysis\n",
      "-----------------------------------\n",
      "Total Months: 86\n",
      "Total Revenue: $ 36973911\n",
      "Average Revenue Change : $ -5955\n",
      "Greatest Increase in Revenue : Jun-2014 ($ 1645140 )\n",
      "Greatest Decrease in Revenue : May-2014 ($ -1947745 )\n"
     ]
    }
   ],
   "source": [
    "print(\"Financial Analysis\")\n",
    "print(\"-----------------------------------\")\n",
    "print(\"Total Months:\", len(date))\n",
    "print(\"Total Revenue: $\", sum(revenue))\n",
    "print(\"Average Revenue Change : $\", round(avg_revenue_change))\n",
    "print(\"Greatest Increase in Revenue :\", max_revenue_change_date, \"($\", max_revenue_change,\")\")\n",
    "print(\"Greatest Decrease in Revenue :\", min_revenue_change_date, \"($\", min_revenue_change, \")\")\n"
   ]
  },
  {
   "cell_type": "code",
   "execution_count": 18,
   "metadata": {},
   "outputs": [],
   "source": [
    "text_path = os.path.join('.', 'budget_anaylsis_2.txt')\n",
    "with open(text_path, \"w\") as text_file:\n",
    "    text_file.write(\"Financial Analysis\\n\")\n",
    "    text_file.write(\"-----------------------------------\\n\")\n",
    "    text_file.write(\"Total Months:\" + str(len(date)) + \"\\n\")\n",
    "    text_file.write(\"Total Revenue: $\" + str(sum(revenue)) + \"\\n\")\n",
    "    text_file.write(\"Average Revenue Change : $\" + str(round(avg_revenue_change)) + \"\\n\")\n",
    "    text_file.write(\"Greatest Increase in Revenue :\" + str(max_revenue_change_date) + \"($\" + str(max_revenue_change) + \")\" + \"\\n\")\n",
    "    text_file.write(\"Greatest Decrease in Revenue :\" + str(min_revenue_change_date) + \"($\" + str(min_revenue_change) + \")\" + \"\\n\")"
   ]
  }
 ],
 "metadata": {
  "kernelspec": {
   "display_name": "Python 3",
   "language": "python",
   "name": "python3"
  },
  "language_info": {
   "codemirror_mode": {
    "name": "ipython",
    "version": 3
   },
   "file_extension": ".py",
   "mimetype": "text/x-python",
   "name": "python",
   "nbconvert_exporter": "python",
   "pygments_lexer": "ipython3",
   "version": "3.6.4"
  }
 },
 "nbformat": 4,
 "nbformat_minor": 2
}
